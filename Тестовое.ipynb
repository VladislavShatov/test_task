{
 "cells": [
  {
   "cell_type": "code",
   "execution_count": 135,
   "id": "fb71a115",
   "metadata": {},
   "outputs": [],
   "source": [
    "import requests as rq\n",
    "import pandas as pd\n",
    "import json"
   ]
  },
  {
   "cell_type": "code",
   "execution_count": 189,
   "id": "57f126d0",
   "metadata": {},
   "outputs": [],
   "source": [
    "def clean(text): #функция очистки\n",
    "    f = filter(str.isalpha, text)\n",
    "    new_el = \"\".join(f)\n",
    "    return new_el\n",
    "\n",
    "\n",
    "#данные для подключения\n",
    "url = 'https://api.airtable.com/v0/appwL5UGRVOxW1d2c/Table%20B'\n",
    "api_key = 'keyjeftfu56mhMmFD'\n",
    "headers = {\"Authorization\" : \"Bearer \" + api_key,\n",
    " \"Content-Type\" : \"application/json\"}"
   ]
  },
  {
   "cell_type": "code",
   "execution_count": 68,
   "id": "11e0c09e",
   "metadata": {},
   "outputs": [],
   "source": [
    "at = rq.get('https://api.airtable.com/v0/appwL5UGRVOxW1d2c/Table%20A?api_key=keyjeftfu56mhMmFD') #просим данные"
   ]
  },
  {
   "cell_type": "code",
   "execution_count": 146,
   "id": "0c8329fd",
   "metadata": {},
   "outputs": [],
   "source": [
    "airtable_response = at.json()\n",
    "airtable_records = airtable_response['records'] #выбираем только записи"
   ]
  },
  {
   "cell_type": "code",
   "execution_count": 174,
   "id": "d6bb88bf",
   "metadata": {},
   "outputs": [],
   "source": [
    "airtable_records\n",
    "airtable_rows = [] \n",
    "airtable_index = []\n",
    "for record in airtable_records:\n",
    "    airtable_rows.append(record['fields'])\n",
    "    airtable_index.append(record['id'])\n",
    "raw_df = pd.DataFrame(airtable_rows, index=airtable_index)\n",
    "#убираем лишнее"
   ]
  },
  {
   "cell_type": "code",
   "execution_count": 188,
   "id": "347c0cbe",
   "metadata": {},
   "outputs": [
    {
     "name": "stdout",
     "output_type": "stream",
     "text": [
      "<Response [200]>\n",
      "<Response [200]>\n",
      "<Response [200]>\n",
      "<Response [200]>\n",
      "<Response [200]>\n",
      "<Response [200]>\n",
      "<Response [200]>\n",
      "<Response [200]>\n",
      "<Response [200]>\n",
      "<Response [200]>\n"
     ]
    }
   ],
   "source": [
    "new_data = []\n",
    "for el in raw_df['raw_data']:\n",
    "    new_el = clean(el) #чистим элементы\n",
    "    new_data.append(new_el) #добавляем в список\n",
    "df = pd.DataFrame(new_data) #создаем датафрейм\n",
    "df = df.drop_duplicates() #удаляем дубликаты\n",
    "df = df.rename(columns={0: \"clean_data\"}) #переименовываем столбец\n",
    "dict_of_dicts = df.to_dict(orient=\"index\")\n",
    "for record_id, upload_data in dict_of_dicts.items(): #подготавливаем данные\n",
    "    record_url = url + \"/\" + str(record_id)\n",
    "    upload_dict = {\"records\" : [{\"fields\" : upload_data}]}\n",
    "    upload_json = json.dumps(upload_dict)\n",
    "    response = requests.post(url, data=upload_json, headers=headers) #отправляем данные\n",
    "    print(response) #смотрим какой статус-код приходит. если 200 то все ок"
   ]
  }
 ],
 "metadata": {
  "kernelspec": {
   "display_name": "Python 3 (ipykernel)",
   "language": "python",
   "name": "python3"
  },
  "language_info": {
   "codemirror_mode": {
    "name": "ipython",
    "version": 3
   },
   "file_extension": ".py",
   "mimetype": "text/x-python",
   "name": "python",
   "nbconvert_exporter": "python",
   "pygments_lexer": "ipython3",
   "version": "3.8.12"
  }
 },
 "nbformat": 4,
 "nbformat_minor": 5
}
